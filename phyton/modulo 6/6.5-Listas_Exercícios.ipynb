{
 "cells": [
  {
   "cell_type": "markdown",
   "id": "0d5035b5",
   "metadata": {},
   "source": [
    "# Listas\n",
    "\n",
    "## Aulas 6.1 a 6.5 "
   ]
  },
  {
   "cell_type": "markdown",
   "id": "0bdece85",
   "metadata": {},
   "source": [
    "### Q1. \n",
    "\n",
    "Usando a função embutida ```map``` e criando uma função ```lambda```, transforme uma lista com os raios de múltiplas circunferências em uma nova lista com as respectivas áreas. O cálculo de cada área é dado por: ```pi*(raio**2)```\n",
    "- Use a constante pi da biblioteca math \n",
    "- Arredonde o resultado para 2 casas decimais\n"
   ]
  },
  {
   "cell_type": "code",
   "execution_count": null,
   "id": "0a258eba",
   "metadata": {},
   "outputs": [],
   "source": [
    "\n",
    "raios = [1.5, 0.8, 2.3, 5.0]\n",
    "\n",
    "## Complete a solução\n",
    "import math\n",
    "area = map(lambda r: round(math.pi*(r ** 2), 2), raios)\n",
    "print(list(area))"
   ]
  },
  {
   "cell_type": "markdown",
   "id": "649a5082",
   "metadata": {},
   "source": [
    "### Q2. \n",
    "\n",
    "Crie uma função customizada e aplique a função embutida ```filter``` para operar em uma lista de listas contendo os lados de múltiplos triângulos. Construa uma nova lista contendo apenas os triângulos equiláteros, ou seja, com os três lados iguais.\n"
   ]
  },
  {
   "cell_type": "code",
   "execution_count": null,
   "id": "47cb0573",
   "metadata": {},
   "outputs": [],
   "source": [
    "## Crie a função customizada\n",
    "def testa_equilatero(t):\n",
    "    if t[0]==t[1]and t[1]==t[2]:\n",
    "        return True\n",
    "    return False\n",
    "    ### \n",
    "\n",
    "### Usando filter, aplique a função customizada aos seguintes triangulos\n",
    "triangulos  = [[2,2,2], [3,4,5], [3,2,2],[4,4,4]]\n",
    "equilateros = list(filter(testa_equilatero,triangulos))\n",
    "equilateros\n"
   ]
  },
  {
   "cell_type": "markdown",
   "id": "bb62d219",
   "metadata": {},
   "source": [
    "### Q3. \n",
    "Crie uma função chamada ```ordena_por_comprimento``` que aceite uma lista de strings e a ordene com base no comprimento das strings, do menor para o maior. Utilize a função ```sorte``` e uma expressão ```lambda```."
   ]
  },
  {
   "cell_type": "code",
   "execution_count": null,
   "id": "add41556",
   "metadata": {},
   "outputs": [],
   "source": [
    "### crie a função ordena_por_comprimento e retorne a lista resultado\n",
    "def ordena_por_comprimento(nomes):\n",
    "    # Ordenando a lista 'nomes' in-place com base no comprimento das strings\n",
    "    nomes.sort(key=lambda nome: len(nome))\n",
    "\n",
    "### aplique sua função à seguinte lista e imprima o resultado\n",
    "\n",
    "# Lista de nomes para ordenar\n",
    "nomes = [\"Joao\", \"Maria\", \"Jose\", \"Gabriela\", \"Sol\", \"Luna\", \"Bento\", \"Enzo\", \"Fernanda\"]\n",
    "\n",
    "ordena_por_comprimento(nomes)\n",
    "\n",
    "print(nomes)\n"
   ]
  },
  {
   "cell_type": "markdown",
   "id": "8710b1a7",
   "metadata": {},
   "source": [
    "### Q4.\n",
    "\n",
    "Crie uma lista de listas (uma matriz de 2 dimensões) de tamanho $n \\times n$, com $n$ dado pelo usuário. Cada elemento da matriz deve ser o produto dos índices da linha pela coluna.\n",
    "\n",
    "Exemplo:\n",
    "```\n",
    "Digite n: 4\n",
    "Matriz:\n",
    "[[0, 0, 0, 0],\n",
    " [0, 1, 2, 3],\n",
    " [0, 2, 4, 6],\n",
    " [0, 3, 6, 9]]\n",
    "```"
   ]
  },
  {
   "cell_type": "code",
   "execution_count": null,
   "id": "0b7ee921",
   "metadata": {},
   "outputs": [],
   "source": [
    "# Implemente sua solução aqui\n",
    "def matriz(n):\n",
    "  for i in range(n):\n",
    "    for j in range(n):  \n",
    "      print(i*j, end=\" \")\n",
    "    print()\n",
    "\n",
    "n=int(input())\n",
    "matriz(n)"
   ]
  },
  {
   "cell_type": "markdown",
   "id": "f41781df",
   "metadata": {},
   "source": [
    "### Q5.\n",
    "\n",
    "Dada uma lista de números inteiros, implemente uma função em Python chamada ```pares_unicos``` que encontre e retorne todos os pares únicos de elementos na lista cuja soma seja igual a um determinado valor. Considere que a ordem dos pares não é relevante."
   ]
  },
  {
   "cell_type": "code",
   "execution_count": null,
   "id": "7a76f765",
   "metadata": {},
   "outputs": [],
   "source": [
    "# Exemplo de uso:\n",
    "# nums = [3, 4, 5, 6, 7]\n",
    "# soma = 10\n",
    "# resultado = pares_unicos(nums, soma)\n",
    "# print(resultado)  # Saída esperada: [(3, 7), (4, 6)]\n",
    "\n",
    "    # Implemente sua solução aqui\n",
    "\n",
    "nums = [3, 4, 5, 6, 7]\n",
    "\n",
    "def soma_indices_pares(nums):\n",
    "    soma = 0\n",
    "    for i in range(len(nums)):\n",
    "        if nums[i] % 2 == 0:  \n",
    "            soma += nums[i]  \n",
    "    return soma\n",
    "\n",
    "resultado = soma_indices_pares(nums)\n",
    "print(resultado)"
   ]
  },
  {
   "cell_type": "markdown",
   "id": "87e44893",
   "metadata": {},
   "source": [
    "### Q5.\n",
    "\n",
    "Escreva um programa para encontrar a diferença entre duas listas, incluindo elementos duplicados.\n",
    "\n",
    "Ex:\n",
    "```\n",
    "Listas originais: \n",
    "[1, 1, 2, 3, 3, 4, 4, 5, 6, 7]\n",
    "[1, 1, 2, 4, 5, 6]\n",
    "Diferença entre as listas:\n",
    "[3, 3, 4, 7]\n",
    "```"
   ]
  },
  {
   "cell_type": "code",
   "execution_count": null,
   "id": "7edc027c",
   "metadata": {},
   "outputs": [
    {
     "ename": "",
     "evalue": "",
     "output_type": "error",
     "traceback": [
      "\u001b[1;31mA execução de células com 'c:\\Users\\Administrador\\AppData\\Local\\Microsoft\\WindowsApps\\python3.12.exe' requer o pacote ipykernel.\n",
      "\u001b[1;31mRun the following command to install 'ipykernel' into the Python environment. \n",
      "\u001b[1;31mCommand: 'c:/Users/Administrador/AppData/Local/Microsoft/WindowsApps/python3.12.exe -m pip install ipykernel -U --user --force-reinstall'"
     ]
    }
   ],
   "source": [
    "# Implemente sua solução aqui\n",
    "def remover_elemento(lista, elemento):\n",
    "    \"\"\" Remove a primeira ocorrência do elemento na lista se ele existir. \"\"\"\n",
    "    if elemento in lista:\n",
    "        lista.remove(elemento)\n",
    "    return lista\n",
    "\n",
    "def lista_diferenca(lista1, lista2):\n",
    "    # Cria uma cópia da lista1 para modificar sem alterar a original\n",
    "    copia_lista1 = lista1[:]\n",
    "\n",
    "# Remove os elementos de lista2 da copia_lista1\n",
    "    list(filter(lambda x: remover_elemento(copia_lista1, x) or True, lista2))\n",
    "\n",
    "    return copia_lista1\n",
    "\n",
    "# Listas de exemplo\n",
    "lista1 = [1, 1, 2, 3, 3, 4, 4, 5, 6, 7]\n",
    "lista2 = [1, 1, 2, 4, 5, 6]\n",
    "\n",
    "# Calcula a diferença\n",
    "diferenca_resultante = lista_diferenca(lista1, lista2)\n",
    "\n",
    "print(\"Diferença entre as listas:\", diferenca_resultante)"
   ]
  },
  {
   "cell_type": "markdown",
   "id": "f4c4236d",
   "metadata": {},
   "source": [
    "### Q6.\n",
    "\n",
    "Dada uma lista aleatória, escreva um programa que separa os valores em listas menores de acordo com o tamanho solicitado. Caso não seja possível repartir igualmente a lista original, a última sublista deve conter os elementos remanescentes, como indicado no exemplo a seguir.\n",
    "\n",
    "Note que seu programa deve continuar executando em um laço infinito até que o usuário informe o tamanho 0 na entrada solicitada.\n",
    "\n",
    "```\n",
    "Lista original:\n",
    "[12, 45, 23, 67, 78, 90, 45, 32, 100, 76, 38, 62, 73, 29, 83]\n",
    "\n",
    "Tamanho para divisão: 3\n",
    "Subslistas:\n",
    "[[12, 45, 23], [67, 78, 90], [45, 32, 100], [76, 38, 62], [73, 29, 83]]\n",
    "\n",
    "Tamanho para divisão: 4\n",
    "Subslistas: [[12, 45, 23, 67], [78, 90, 45, 32], [100, 76, 38, 62], [73, 29, 83]]\n",
    "\n",
    "Tamanho para divisão: 0\n",
    "```"
   ]
  },
  {
   "cell_type": "code",
   "execution_count": null,
   "id": "792563de",
   "metadata": {},
   "outputs": [],
   "source": [
    "import random\n",
    "\n",
    "lista = [random.randint(1, 100) for i in range(20)]\n",
    "\n",
    "def dividir_lista(lista, tamanho):\n",
    "    return [lista[i:i + tamanho] for i in range(0, len(lista), tamanho)]\n",
    "\n",
    "def main():\n",
    "    print(\"Lista original:\")\n",
    "    print(lista)\n",
    "\n",
    "    while True:\n",
    "        try:\n",
    "            tamanho = int(input(\"Tamanho para divisão: \"))\n",
    "            if tamanho == 0:\n",
    "                break\n",
    "\n",
    "            sublistas = dividir_lista(lista, tamanho)\n",
    "            print(\"Sublistas:\")\n",
    "            print(sublistas)\n",
    "        except ValueError:\n",
    "            print(\"Por favor, insira um número válido.\")\n",
    "\n",
    "if __name__ == \"__main__\":\n",
    "    main()"
   ]
  },
  {
   "cell_type": "markdown",
   "id": "c65be32f",
   "metadata": {},
   "source": [
    "### Q7.\n",
    "\n",
    "Você está desenvolvendo um programa para determinar o vencedor de um jogo da velha. Escreva uma função ```avalia_tabuleiro()``` que recebe uma lista representando o estado atual do tabuleiro e determina se há um vencedor. \n",
    "\n",
    "A lista terá 3 sublistas, cada uma representando uma linha do tabuleiro. Cada elemento das sublistas pode ser 'X', 'O' ou vazio (' ').\n",
    "\n",
    "O programa deve imprimir o vencedor ('X', 'O'), se houver um, ou \"Empate\" se não houver vencedor. Um vencedor é determinado se houver três 'X' ou três 'O' em linha (horizontal, vertical ou diagonal).\n",
    "\n",
    "Exemplo:\n",
    "```python\n",
    "tabuleiro = [\n",
    "    ['X', 'O', 'X'],\n",
    "    [' ', 'X', 'O'],\n",
    "    ['O', ' ', 'O']\n",
    "]\n",
    "```\n",
    "O resultado seria \"Empate\", pois não há um vencedor no exemplo fornecido. \n",
    "\n",
    "Exemplo 2:\n",
    "```python\n",
    "tabuleiro = [\n",
    "    ['O', 'X', 'O'],\n",
    "    ['X', 'O', 'X'],\n",
    "    ['X', ' ', 'O']\n",
    "]\n",
    "```\n",
    "O resultado seria \"O\", pois 'O' venceu na diagonal central."
   ]
  },
  {
   "cell_type": "code",
   "execution_count": null,
   "id": "720ca24d",
   "metadata": {},
   "outputs": [],
   "source": [
    "### Escreva a função avalia_tabuleiro()\n",
    "def avalia_tabuleiro(tabuleiro):\n",
    "    # Verificar linhas horizontais\n",
    "    for linha in tabuleiro:\n",
    "        if linha[0] == linha[1] == linha[2] and linha[0] != ' ':\n",
    "            return linha[0]\n",
    "\n",
    "    # Verificar linhas verticais\n",
    "    for col in range(3):\n",
    "        if tabuleiro[0][col] == tabuleiro[1][col] == tabuleiro[2][col] and tabuleiro[0][col] != ' ':\n",
    "            return tabuleiro[0][col]\n",
    "\n",
    "    # Verificar diagonais\n",
    "    if tabuleiro[0][0] == tabuleiro[1][1] == tabuleiro[2][2] and tabuleiro[0][0] != ' ':\n",
    "        return tabuleiro[0][0]\n",
    "    if tabuleiro[0][2] == tabuleiro[1][1] == tabuleiro[2][0] and tabuleiro[0][2] != ' ':\n",
    "        return tabuleiro[0][2]\n",
    "\n",
    "    # Se nenhuma das condições acima for satisfeita, é um empate\n",
    "    return \"Empate\"\n",
    "\n",
    "### teste a função nos seguintes tabuleiros\n",
    "\n",
    "tabuleiro1 = [\n",
    "    ['X', 'O', 'X'],\n",
    "    [' ', 'X', 'O'],\n",
    "    ['O', ' ', 'X']\n",
    "]\n",
    "\n",
    "tabuleiro2 = [\n",
    "    ['X', 'O', 'O'],\n",
    "    ['X', 'X', 'O'],\n",
    "    ['X', 'O', 'X']\n",
    "]\n",
    "\n",
    "tabuleiro3 = [\n",
    "    [' ', ' ', ' '],\n",
    "    ['X', ' ', 'O'],\n",
    "    ['O', 'X', 'X']\n",
    "]\n",
    "\n",
    "tabuleiro4 = [\n",
    "    ['O', 'O', 'O'],\n",
    "    ['X', ' ', 'X'],\n",
    "    ['O', 'X', 'X']\n",
    "]\n",
    "\n",
    "tabuleiro5 = [\n",
    "    ['X', 'X', 'O'],\n",
    "    ['X', ' ', 'O'],\n",
    "    ['O', 'O', 'X']\n",
    "]\n",
    "\n",
    "print(avalia_tabuleiro(tabuleiro1)) \n",
    "print(avalia_tabuleiro(tabuleiro2)) \n",
    "print(avalia_tabuleiro(tabuleiro3))  \n",
    "print(avalia_tabuleiro(tabuleiro4))  \n",
    "print(avalia_tabuleiro(tabuleiro5))  "
   ]
  }
 ],
 "metadata": {
  "kernelspec": {
   "display_name": "Python 3 (ipykernel)",
   "language": "python",
   "name": "python3"
  },
  "language_info": {
   "codemirror_mode": {
    "name": "ipython",
    "version": 3
   },
   "file_extension": ".py",
   "mimetype": "text/x-python",
   "name": "python",
   "nbconvert_exporter": "python",
   "pygments_lexer": "ipython3",
   "version": "3.12.3"
  }
 },
 "nbformat": 4,
 "nbformat_minor": 5
}
