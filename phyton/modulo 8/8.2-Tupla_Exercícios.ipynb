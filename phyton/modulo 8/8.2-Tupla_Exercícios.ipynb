{
 "cells": [
  {
   "cell_type": "markdown",
   "id": "0d5035b5",
   "metadata": {},
   "source": [
    "# Tupla\n",
    "\n",
    "## Aula 8.2"
   ]
  },
  {
   "cell_type": "markdown",
   "id": "0bdece85",
   "metadata": {},
   "source": [
    "### Q1. \n",
    "\n",
    "Escreva uma função ```calcula_area_perimetro``` que recebe **apenas um parâmetro** ```dimensoes``` e calcula a área e o perímetro a partir das dimensões dadas. \n",
    "- ```dimensoes``` é uma tupla (largura, comprimento) com as dimensões de um terreno retangular\n",
    "- Sua função deve calcular e retornar as seguintes operações\n",
    "   - $area = largura \\times comprimento$\n",
    "   - $perimetro = 2\\times(largura + comprimento)$\n"
   ]
  },
  {
   "cell_type": "code",
   "execution_count": null,
   "id": "0a258eba",
   "metadata": {},
   "outputs": [],
   "source": [
    "# Implemente aqui a função calcula_area_perimetro\n",
    "def calcula_area_perimetro(dimensoes):\n",
    "    area= dimensoes[0]*dimensoes[1]\n",
    "    perimetro=2*(dimensoes[0]+dimensoes[1])\n",
    "    return area, perimetro"
   ]
  },
  {
   "cell_type": "code",
   "execution_count": null,
   "id": "e1866c04",
   "metadata": {},
   "outputs": [],
   "source": [
    "# Complete o exemplo de uso abaixo\n",
    "largura = 5\n",
    "comprimento = 7\n",
    "\n",
    "dimensao= largura, comprimento\n",
    "retorno = calcula_area_perimetro(dimensao)\n",
    "\n",
    "print(f\"a area é {retorno[0]}, e o perimetro é {retorno[1]}\", type(retorno))"
   ]
  },
  {
   "cell_type": "markdown",
   "id": "cbdcb986",
   "metadata": {},
   "source": [
    "### Q2.\n",
    "\n",
    "Dada uma string, imprima todas as vogais que aparecem na string, bem como todos os índices onde elas ocorrem. Para isso, use a função ```enumerate```.\n"
   ]
  },
  {
   "cell_type": "code",
   "execution_count": null,
   "id": "1f6b1f2d",
   "metadata": {},
   "outputs": [],
   "source": [
    "frase = \"O rato roeu a roupa da Alice\"\n",
    "\n",
    "# Implemente aqui sua solução\n",
    "tupla=()\n",
    "for i in range(len(frase)):\n",
    "    tupla=tupla+(frase[i],)\n",
    "for i, char in enumerate(tupla):\n",
    "    if char in \"aeiouAEIOU\":\n",
    "        print(f\"Vogal '{char}' encontrada no índice {i}\")"
   ]
  },
  {
   "cell_type": "markdown",
   "id": "8d46663f",
   "metadata": {},
   "source": [
    "### Q3.\n",
    "\n",
    "Escreva uma função em Python chamada ```ordenar_tuplas``` que recebe uma lista de tuplas, cada uma contendo o nome de um aluno e sua respectiva média, e retorna uma nova lista ordenada em ordem decrescente de médias."
   ]
  },
  {
   "cell_type": "code",
   "execution_count": null,
   "id": "469f2e6e",
   "metadata": {},
   "outputs": [],
   "source": [
    "# Implemente aqui a função ordenar_tuplas\n",
    "def ordenar_tuplas(lista):\n",
    "    return sorted(lista, key=lambda x: x[1], reverse=True)"
   ]
  },
  {
   "cell_type": "code",
   "execution_count": null,
   "id": "1972c62b",
   "metadata": {},
   "outputs": [],
   "source": [
    "# Exemplo de uso:\n",
    "alunos_notas = [('Alice', 8.5), ('Bob', 7.2), ('Charlie', 9.0), ('David', 8.8)]\n",
    "resultado = ordenar_tuplas(alunos_notas)\n",
    "print(resultado)\n",
    "# Saída esperada: [('Charlie', 9.0), ('David', 8.8), ('Alice', 8.5), ('Bob', 7.2)]"
   ]
  },
  {
   "cell_type": "markdown",
   "id": "e0268fae",
   "metadata": {},
   "source": [
    "### Q4.\n",
    "\n",
    "Escreva uma função em Python chamada ```comprimir_tuplas``` que recebe uma lista de tuplas, cada uma contendo uma palavra e um número, e retorna uma nova lista de tuplas onde palavras idênticas são agrupadas e seus números são somados.\n",
    "\n"
   ]
  },
  {
   "cell_type": "code",
   "execution_count": null,
   "id": "30a221f3",
   "metadata": {},
   "outputs": [],
   "source": [
    "# Implemente aqui a função comprimir_tuplas\n",
    "def comprimir_tuplas(lista):\n",
    "    # Inicializar a lista que vai armazenar o resultado\n",
    "    lista_comprimida = []\n",
    "    \n",
    "    # Iterar sobre cada tupla na lista original\n",
    "    for palavra, numero in lista:\n",
    "        # Procurar a palavra na lista_comprimida\n",
    "        encontrou = False\n",
    "        for i in range(len(lista_comprimida)):\n",
    "            if lista_comprimida[i][0] == palavra:\n",
    "                # Se encontrar, somar o número e marcar como encontrado\n",
    "                lista_comprimida[i] = (palavra, lista_comprimida[i][1] + numero)\n",
    "                encontrou = True\n",
    "                break\n",
    "        \n",
    "        # Se não encontrou, adicionar uma nova tupla na lista_comprimida\n",
    "        if not encontrou:\n",
    "            lista_comprimida.append((palavra, numero))\n",
    "    \n",
    "    return lista_comprimida"
   ]
  },
  {
   "cell_type": "code",
   "execution_count": null,
   "id": "80972bac",
   "metadata": {},
   "outputs": [],
   "source": [
    "# Exemplo de uso:\n",
    "tuplas_originais = [('maçã', 3), ('banana', 2), ('maçã', 5), ('laranja', 1), ('banana', 3)]\n",
    "resultado = comprimir_tuplas(tuplas_originais)\n",
    "print(resultado)\n",
    "# Saída esperada: [('maçã', 8), ('banana', 5), ('laranja', 1)]"
   ]
  },
  {
   "cell_type": "markdown",
   "id": "649a5082",
   "metadata": {},
   "source": [
    "### Q5. \n",
    "\n",
    "- Escreva um script que peça o nome e a idade de todos na fila de uma balada. Crie uma lista de tuplas com os pares ```(nome, idade)``` de cada um. \n",
    "- Em seguida crie e imprima duas tuplas apenas com os nomes, uma com os menores de idade que não poderão entrar, e uma com os maiores de idade (```idade >= 18```). \n",
    "\n"
   ]
  },
  {
   "cell_type": "code",
   "execution_count": null,
   "id": "47cb0573",
   "metadata": {},
   "outputs": [],
   "source": [
    "## Implemente aqui sua solução\n",
    "# Inicialização das listas de tuplas e de nomes\n",
    "fila_balada = []\n",
    "nomes_menores = ()\n",
    "nomes_maiores = ()\n",
    "\n",
    "while True:\n",
    "    nome = input(\"Digite seu nome: (digite 'fim' para terminar)\")\n",
    "    \n",
    "    # Verifica se o usuário digitou 'fim' para sair do loop\n",
    "    if nome.lower() == 'fim':\n",
    "        break\n",
    "    \n",
    "    idade = int(input(\"Digite sua idade: \"))\n",
    "    \n",
    "    # Adiciona uma tupla (nome, idade) à lista de tuplas\n",
    "    fila_balada.append((nome, idade))\n",
    "    \n",
    "    # Adiciona apenas o nome à tupla de nomes apropriada com base na idade\n",
    "    if idade < 18:\n",
    "        nomes_menores += (nome,)\n",
    "    else:\n",
    "        nomes_maiores += (nome,)\n",
    "\n",
    "# Imprime as duas tuplas apenas com os nomes\n",
    "print(\"Nomes dos menores de idade:\", nomes_menores)\n",
    "print(\"Nomes dos maiores de idade:\", nomes_maiores)\n"
   ]
  }
 ],
 "metadata": {
  "kernelspec": {
   "display_name": "Python 3 (ipykernel)",
   "language": "python",
   "name": "python3"
  },
  "language_info": {
   "codemirror_mode": {
    "name": "ipython",
    "version": 3
   },
   "file_extension": ".py",
   "mimetype": "text/x-python",
   "name": "python",
   "nbconvert_exporter": "python",
   "pygments_lexer": "ipython3",
   "version": "3.9.6"
  }
 },
 "nbformat": 4,
 "nbformat_minor": 5
}
